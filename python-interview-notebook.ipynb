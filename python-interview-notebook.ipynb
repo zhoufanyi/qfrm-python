{
 "cells": [
  {
   "cell_type": "markdown",
   "metadata": {},
   "source": [
    "### 1.1\n",
    "What is the value of $\\sqrt{2}^{\\sqrt{2}^{{\\sqrt{2}^{...}}}}$?  #the part between '$$' is latex."
   ]
  },
  {
   "cell_type": "code",
   "execution_count": 6,
   "metadata": {
    "collapsed": false
   },
   "outputs": [
    {
     "name": "stdout",
     "output_type": "stream",
     "text": [
      "2\n"
     ]
    }
   ],
   "source": [
    "import math\n",
    "exponent=1\n",
    "for n in range(0,100):\n",
    "    exponent =math.sqrt(2)**exponent\n",
    "print long(exponent)"
   ]
  },
  {
   "cell_type": "markdown",
   "metadata": {},
   "source": [
    "### 3.1\n",
    "You have a bag with two coins. One will come up heads 40% of the time, and the other will come up heads 60%. You pick a coin randomly, flip it and get a head. What is the probability it will be heads on the next flip?"
   ]
  },
  {
   "cell_type": "code",
   "execution_count": 12,
   "metadata": {
    "collapsed": false
   },
   "outputs": [
    {
     "name": "stdout",
     "output_type": "stream",
     "text": [
      "499657 259552 0.5194603498\n"
     ]
    }
   ],
   "source": [
    "import random as rnd\n",
    "heads = 0\n",
    "#for n in range(0,1000):\n",
    " #   coin1=math.floor(rnd.random()/0.6)  floor下取整函数 random function取值范围0到1之间  \n",
    "#    heads+=coin1                        0.7/0.6 >1 coin1 =1 0到1之间只有40%几率取到比0.6大的值，表示硬币人头朝上的概率只有0。4\n",
    "#print heads\n",
    "firstflipisAHeadcounter = 0 #count only trials where first filp is head\n",
    "secondflipisAHeadcounter = 0 #and count how many of those had a 2nd head\n",
    "\n",
    "def headsortails(probTails):\n",
    "    if rnd.random() < probTails:\n",
    "        return 0\n",
    "    else:\n",
    "        return 1\n",
    "\n",
    "for trialCtr in range(0,1000000):\n",
    "    if rnd.random( )<0.5:\n",
    "        probTails=0.6\n",
    "    else: \n",
    "        probTails=0.4\n",
    "    coin = headsortails(probTails)\n",
    "    if coin>0.5: #it is a head, because it must be 1, not 0\n",
    "        firstflipisAHeadcounter += 1\n",
    "        secondflipisAHeadcounter += headsortails(probTails)      #conditional probability\n",
    "probEstimate =  float(secondflipisAHeadcounter)/ firstflipisAHeadcounter\n",
    "print firstflipisAHeadcounter,secondflipisAHeadcounter, probEstimate\n",
    "\n",
    "\n",
    "    \n",
    "\n",
    "    \n",
    "    \n",
    "    \n",
    "    \n",
    "\n",
    "\n",
    "\n",
    "\n"
   ]
  },
  {
   "cell_type": "markdown",
   "metadata": {},
   "source": [
    "### 3.1\n",
    "In front of you is a jar of 1000 coins. One of the coins has two heads, and the rest are fair coins. You choose a coin at random, and flip it ten times, getting all heads. What is the probability it is one of the fair coins?"
   ]
  },
  {
   "cell_type": "markdown",
   "metadata": {
    "collapsed": false
   },
   "source": []
  },
  {
   "cell_type": "markdown",
   "metadata": {},
   "source": [
    "### 3.5\n",
    "Starting at one vertex of a cube, and moving randomly from vertex to adjacent vertices, what is the expected number of moves until you reach the  vertex opposite from your starting point?"
   ]
  },
  {
   "cell_type": "code",
   "execution_count": 7,
   "metadata": {
    "collapsed": false
   },
   "outputs": [
    {
     "ename": "SyntaxError",
     "evalue": "'break' outside loop (<ipython-input-7-ac14bddab41c>, line 16)",
     "output_type": "error",
     "traceback": [
      "\u001b[1;36m  File \u001b[1;32m\"<ipython-input-7-ac14bddab41c>\"\u001b[1;36m, line \u001b[1;32m16\u001b[0m\n\u001b[1;33m    break\u001b[0m\n\u001b[1;31mSyntaxError\u001b[0m\u001b[1;31m:\u001b[0m 'break' outside loop\n"
     ]
    }
   ],
   "source": [
    "#Markov Chain four states  \n",
    "import random as rnd\n",
    "step=0\n",
    "def movestep(stage):\n",
    "    if stage==0:\n",
    "         return 1\n",
    "    if stage==1:\n",
    "        if rnd.random() <2.0/3:\n",
    "            return 2\n",
    "        return 0\n",
    "    if stage==2:\n",
    "         if rnd.random()<2.0/3:\n",
    "            return 1\n",
    "         return 3\n",
    "    else:\n",
    "        return\n",
    "for n in range(0,1000):\n",
    "    while stage!=0:\n",
    "        stage= movestep(stage)\n",
    "        step+=1\n",
    "\n",
    "print step\n",
    "    \n",
    "    \n",
    "        \n",
    "        \n",
    "\n",
    "\n",
    "\n",
    "\n"
   ]
  },
  {
   "cell_type": "markdown",
   "metadata": {},
   "source": [
    "### 3.8\n",
    "You have a spinner that generates random numbers that are uniform between 0 and 1. You sum the spins until the sum is greater than one. What is the expected number of spins?"
   ]
  },
  {
   "cell_type": "code",
   "execution_count": null,
   "metadata": {
    "collapsed": false
   },
   "outputs": [],
   "source": []
  },
  {
   "cell_type": "markdown",
   "metadata": {},
   "source": [
    "### 4.4\n",
    "You have a basket of $n$ assets. The asset returns are multivariate normal with zero mean. Correlation between any pair of assets is 1/2. What is the probability that $k$ of the assets will have positive return?"
   ]
  },
  {
   "cell_type": "code",
   "execution_count": null,
   "metadata": {
    "collapsed": false
   },
   "outputs": [],
   "source": []
  },
  {
   "cell_type": "markdown",
   "metadata": {},
   "source": [
    "### 3.10\n",
    "A stick is broken randomly into 3 pieces. What is the probability of the pieces being able to form a triangle?"
   ]
  },
  {
   "cell_type": "code",
   "execution_count": null,
   "metadata": {
    "collapsed": false
   },
   "outputs": [],
   "source": []
  },
  {
   "cell_type": "markdown",
   "metadata": {},
   "source": [
    "### 3.11\n",
    "A stick is broken randomly into two pieces. The larger piece is then broken randomly into two pieces. What is the probability of the pieces being able to form a triangle?"
   ]
  },
  {
   "cell_type": "code",
   "execution_count": null,
   "metadata": {
    "collapsed": false
   },
   "outputs": [],
   "source": []
  },
  {
   "cell_type": "markdown",
   "metadata": {},
   "source": [
    "### 5.10\n",
    "Suppose there are 36 students in the QFRM program, each assigned a unique integer from 1 to 36. Thirty-six quarters are laid out on a table in a row, heads up. Each student goes to the table, and if they are assigned the number $n$, they turn over the $n$th coin, the $2n$th coin, and so on. So, for example, the student who is assigned 15 will turn over the 15th and 30th coins. When everyone is done, how many tails are showing?"
   ]
  },
  {
   "cell_type": "code",
   "execution_count": null,
   "metadata": {
    "collapsed": false
   },
   "outputs": [],
   "source": []
  }
 ],
 "metadata": {
  "anaconda-cloud": {},
  "kernelspec": {
   "display_name": "Python [Root]",
   "language": "python",
   "name": "Python [Root]"
  },
  "language_info": {
   "codemirror_mode": {
    "name": "ipython",
    "version": 2
   },
   "file_extension": ".py",
   "mimetype": "text/x-python",
   "name": "python",
   "nbconvert_exporter": "python",
   "pygments_lexer": "ipython2",
   "version": "2.7.12"
  }
 },
 "nbformat": 4,
 "nbformat_minor": 0
}
